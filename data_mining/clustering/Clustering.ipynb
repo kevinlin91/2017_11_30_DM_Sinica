{
 "cells": [
  {
   "cell_type": "markdown",
   "metadata": {
    "slideshow": {
     "slide_type": "slide"
    }
   },
   "source": [
    "<h1>Unsupervised Learning</h1>\n",
    "<ul>\n",
    "    <li>K-means</li>\n",
    "    <li>Hierarchical Clustering</li>\n",
    "    <li>GMM</li>\n",
    "    <li>DBScan</li>\n",
    "    \n",
    "</ul>"
   ]
  },
  {
   "cell_type": "markdown",
   "metadata": {
    "collapsed": true,
    "slideshow": {
     "slide_type": "slide"
    }
   },
   "source": [
    "<h1>Dataset</h1>\n",
    "<ul>\n",
    "    <li>Wine Dataset</li>\n",
    "</ul>"
   ]
  },
  {
   "cell_type": "code",
   "execution_count": 1,
   "metadata": {
    "collapsed": true,
    "slideshow": {
     "slide_type": "subslide"
    }
   },
   "outputs": [],
   "source": [
    "from sklearn.datasets import load_wine\n",
    "wine_data = load_wine()"
   ]
  },
  {
   "cell_type": "markdown",
   "metadata": {
    "collapsed": true,
    "slideshow": {
     "slide_type": "slide"
    }
   },
   "source": [
    "<h2>Wine Dataset</h2>"
   ]
  },
  {
   "cell_type": "code",
   "execution_count": 2,
   "metadata": {
    "scrolled": true,
    "slideshow": {
     "slide_type": "subslide"
    }
   },
   "outputs": [
    {
     "name": "stdout",
     "output_type": "stream",
     "text": [
      "Wine Data Database\n",
      "====================\n",
      "\n",
      "Notes\n",
      "-----\n",
      "Data Set Characteristics:\n",
      "    :Number of Instances: 178 (50 in each of three classes)\n",
      "    :Number of Attributes: 13 numeric, predictive attributes and the class\n",
      "    :Attribute Information:\n",
      " \t\t- 1) Alcohol\n",
      " \t\t- 2) Malic acid\n",
      " \t\t- 3) Ash\n",
      "\t\t- 4) Alcalinity of ash  \n",
      " \t\t- 5) Magnesium\n",
      "\t\t- 6) Total phenols\n",
      " \t\t- 7) Flavanoids\n",
      " \t\t- 8) Nonflavanoid phenols\n",
      " \t\t- 9) Proanthocyanins\n",
      "\t\t- 10)Color intensity\n",
      " \t\t- 11)Hue\n",
      " \t\t- 12)OD280/OD315 of diluted wines\n",
      " \t\t- 13)Proline\n",
      "        \t- class:\n",
      "                - class_0\n",
      "                - class_1\n",
      "                - class_2\n",
      "\t\t\n",
      "    :Summary Statistics:\n",
      "    \n",
      "    ============================= ==== ===== ======= =====\n",
      "                                   Min   Max   Mean     SD\n",
      "    ============================= ==== ===== ======= =====\n",
      "    Alcohol:                      11.0  14.8    13.0   0.8\n",
      "    Malic Acid:                   0.74  5.80    2.34  1.12\n",
      "    Ash:                          1.36  3.23    2.36  0.27\n",
      "    Alcalinity of Ash:            10.6  30.0    19.5   3.3\n",
      "    Magnesium:                    70.0 162.0    99.7  14.3\n",
      "    Total Phenols:                0.98  3.88    2.29  0.63\n",
      "    Flavanoids:                   0.34  5.08    2.03  1.00\n",
      "    Nonflavanoid Phenols:         0.13  0.66    0.36  0.12\n",
      "    Proanthocyanins:              0.41  3.58    1.59  0.57\n",
      "    Colour Intensity:              1.3  13.0     5.1   2.3\n",
      "    Hue:                          0.48  1.71    0.96  0.23\n",
      "    OD280/OD315 of diluted wines: 1.27  4.00    2.61  0.71\n",
      "    Proline:                       278  1680     746   315\n",
      "    ============================= ==== ===== ======= =====\n",
      "\n",
      "    :Missing Attribute Values: None\n",
      "    :Class Distribution: class_0 (59), class_1 (71), class_2 (48)\n",
      "    :Creator: R.A. Fisher\n",
      "    :Donor: Michael Marshall (MARSHALL%PLU@io.arc.nasa.gov)\n",
      "    :Date: July, 1988\n",
      "\n",
      "This is a copy of UCI ML Wine recognition datasets.\n",
      "https://archive.ics.uci.edu/ml/machine-learning-databases/wine/wine.data\n",
      "\n",
      "The data is the results of a chemical analysis of wines grown in the same\n",
      "region in Italy by three different cultivators. There are thirteen different\n",
      "measurements taken for different constituents found in the three types of\n",
      "wine.\n",
      "\n",
      "Original Owners: \n",
      "\n",
      "Forina, M. et al, PARVUS - \n",
      "An Extendible Package for Data Exploration, Classification and Correlation. \n",
      "Institute of Pharmaceutical and Food Analysis and Technologies,\n",
      "Via Brigata Salerno, 16147 Genoa, Italy.\n",
      "\n",
      "Citation:\n",
      "\n",
      "Lichman, M. (2013). UCI Machine Learning Repository\n",
      "[http://archive.ics.uci.edu/ml]. Irvine, CA: University of California,\n",
      "School of Information and Computer Science. \n",
      "\n",
      "References\n",
      "----------\n",
      "(1) \n",
      "S. Aeberhard, D. Coomans and O. de Vel, \n",
      "Comparison of Classifiers in High Dimensional Settings, \n",
      "Tech. Rep. no. 92-02, (1992), Dept. of Computer Science and Dept. of \n",
      "Mathematics and Statistics, James Cook University of North Queensland. \n",
      "(Also submitted to Technometrics). \n",
      "\n",
      "The data was used with many others for comparing various \n",
      "classifiers. The classes are separable, though only RDA \n",
      "has achieved 100% correct classification. \n",
      "(RDA : 100%, QDA 99.4%, LDA 98.9%, 1NN 96.1% (z-transformed data)) \n",
      "(All results using the leave-one-out technique) \n",
      "\n",
      "(2) \n",
      "S. Aeberhard, D. Coomans and O. de Vel, \n",
      "\"THE CLASSIFICATION PERFORMANCE OF RDA\" \n",
      "Tech. Rep. no. 92-01, (1992), Dept. of Computer Science and Dept. of \n",
      "Mathematics and Statistics, James Cook University of North Queensland. \n",
      "(Also submitted to Journal of Chemometrics). \n",
      "\n"
     ]
    }
   ],
   "source": [
    "print wine_data.DESCR"
   ]
  },
  {
   "cell_type": "code",
   "execution_count": 3,
   "metadata": {
    "slideshow": {
     "slide_type": "subslide"
    }
   },
   "outputs": [
    {
     "name": "stdout",
     "output_type": "stream",
     "text": [
      "[[  1.42300000e+01   1.71000000e+00   2.43000000e+00 ...,   1.04000000e+00\n",
      "    3.92000000e+00   1.06500000e+03]\n",
      " [  1.32000000e+01   1.78000000e+00   2.14000000e+00 ...,   1.05000000e+00\n",
      "    3.40000000e+00   1.05000000e+03]\n",
      " [  1.31600000e+01   2.36000000e+00   2.67000000e+00 ...,   1.03000000e+00\n",
      "    3.17000000e+00   1.18500000e+03]\n",
      " ..., \n",
      " [  1.32700000e+01   4.28000000e+00   2.26000000e+00 ...,   5.90000000e-01\n",
      "    1.56000000e+00   8.35000000e+02]\n",
      " [  1.31700000e+01   2.59000000e+00   2.37000000e+00 ...,   6.00000000e-01\n",
      "    1.62000000e+00   8.40000000e+02]\n",
      " [  1.41300000e+01   4.10000000e+00   2.74000000e+00 ...,   6.10000000e-01\n",
      "    1.60000000e+00   5.60000000e+02]]\n"
     ]
    }
   ],
   "source": [
    "print wine_data.data"
   ]
  },
  {
   "cell_type": "markdown",
   "metadata": {
    "slideshow": {
     "slide_type": "slide"
    }
   },
   "source": [
    "<h2>Types of Input Data</h2>\n",
    "<ul>\n",
    "    <li>One Mode Matrix</li>\n",
    "    <li>Two Mode Matrix</li>\n",
    "</ul>"
   ]
  },
  {
   "cell_type": "markdown",
   "metadata": {
    "slideshow": {
     "slide_type": "subslide"
    }
   },
   "source": [
    "Data Matrix (Two mode Matrix)\n",
    "    <li>n object with p attributes</li>\n",
    "    <li>n * p matrix</li>\n"
   ]
  },
  {
   "cell_type": "code",
   "execution_count": 4,
   "metadata": {
    "slideshow": {
     "slide_type": "-"
    }
   },
   "outputs": [
    {
     "name": "stdout",
     "output_type": "stream",
     "text": [
      "<type 'numpy.ndarray'>\n",
      "(178L, 13L)\n"
     ]
    }
   ],
   "source": [
    "two_mode_data = load_wine().data\n",
    "print type(two_mode_data)\n",
    "print two_mode_data.shape"
   ]
  },
  {
   "cell_type": "markdown",
   "metadata": {
    "slideshow": {
     "slide_type": "subslide"
    }
   },
   "source": [
    "Dissimilarity Matrix ( One mode matrix)\n",
    "<li>object by object</li>\n",
    "<li> n * n matrix</li>    "
   ]
  },
  {
   "cell_type": "markdown",
   "metadata": {
    "slideshow": {
     "slide_type": "subslide"
    }
   },
   "source": [
    "How do we transform two mode data into one mode data<br>"
   ]
  },
  {
   "cell_type": "markdown",
   "metadata": {
    "slideshow": {
     "slide_type": "fragment"
    }
   },
   "source": [
    "<p>L1 (manhattan) $|x_{1}-x_{2}|+|y_{1}-y_{2}|.$</p>"
   ]
  },
  {
   "cell_type": "markdown",
   "metadata": {
    "slideshow": {
     "slide_type": "fragment"
    }
   },
   "source": [
    "<p>L2 (euclidean) $\\sqrt{(x_{1}-x_{2})^{2}+(y_{1}-y_{2})^{2}}.$</p>"
   ]
  },
  {
   "cell_type": "markdown",
   "metadata": {
    "slideshow": {
     "slide_type": "subslide"
    }
   },
   "source": [
    "<p>cosine $\\frac {x \\cdot y}{||x|| \\cdot ||y||}$</p>"
   ]
  },
  {
   "cell_type": "markdown",
   "metadata": {
    "slideshow": {
     "slide_type": "fragment"
    }
   },
   "source": [
    "<p style=\"color:red\">we can use sklearn.metrics.pairwise</p>"
   ]
  },
  {
   "cell_type": "code",
   "execution_count": 5,
   "metadata": {
    "collapsed": true,
    "slideshow": {
     "slide_type": "subslide"
    }
   },
   "outputs": [],
   "source": [
    "from sklearn.metrics import pairwise\n",
    "#manhattan\n",
    "one_mode_L1_data = pairwise.manhattan_distances(load_wine().data,load_wine().data)\n",
    "#euclidean\n",
    "one_mode_L2_data = pairwise.euclidean_distances(load_wine().data,load_wine().data)\n",
    "\n",
    "\n"
   ]
  },
  {
   "cell_type": "code",
   "execution_count": 6,
   "metadata": {
    "scrolled": true,
    "slideshow": {
     "slide_type": "subslide"
    }
   },
   "outputs": [
    {
     "name": "stdout",
     "output_type": "stream",
     "text": [
      "(178L, 178L)\n",
      "[   0.         51.06      152.48      435.09      349.97      403.87\n",
      "  259.26      241.56       54.48       53.04      471.74      252.49\n",
      "  296.08      129.02      515.66      266.56      229.28       85.71      641.3\n",
      "  235.56      287.61      329.54       60.71       89.69      260.06\n",
      "  253.69      168.32      260.71      177.45       64.34      255.79\n",
      "  478.21      104.59      182.82       55.72      179.39      207.33\n",
      "   77.48       80.85      312.36      283.2        77.42       59.67\n",
      "  417.98      204.82       39.34       29.47      109.1        34.75\n",
      "  221.24      128.46      236.5       147.38      327.33       17.66\n",
      "   73.86      107.04      235.15      244.87      603.68      423.84      652.4\n",
      "  478.99      694.78      747.26      424.89      616.64      615.4       343.78\n",
      "  382.38      235.544     710.39      648.89      111.9       218.98\n",
      "  678.34      722.51      594.95      334.42      644.16      841.19\n",
      "  401.35      503.41      608.91      589.01      654.42      624.9       562.68\n",
      "  444.38      515.42      644.86      672.2       632.51      825.38\n",
      "  759.98      175.15      465.07      687.54      453.81      709.64\n",
      "  396.05      555.77      669.91      705.71      447.73      803.54\n",
      "  613.67      636.18      800.12      429.79      538.64      794.14\n",
      "  497.42      685.85      738.43      716.74      626.72      755.12      753.\n",
      "  556.85      482.91      628.42      747.47      742.53      744.59\n",
      "  742.61      765.93      656.62      779.48      550.96      453.21\n",
      "  572.94      552.54      503.39      468.8       417.9       403.98\n",
      "  604.21      538.62      519.53      512.6       336.73      594.41\n",
      "  566.09      242.02      277.88      715.34      500.91      468.34      549.4\n",
      "  589.75      621.11      670.14      436.39      465.53      394.75\n",
      "  640.03      239.01      456.01      502.02      602.38      419.2       532.79\n",
      "  425.12      506.77      603.12      408.15      438.37      357.45\n",
      "  472.89      601.27      655.019999  457.7       376.06      359.18\n",
      "  257.14      249.41      558.28    ]\n",
      "[   0.           31.26501239  122.83115403  415.24539985  330.17450008\n",
      "  385.29595988  227.12947365  230.09159915   36.11696554   35.27497697\n",
      "  445.55102603  217.37853919  257.81932782   92.41866695  482.66694273\n",
      "  245.47425934  215.16396492   66.27069714  615.30369055  220.28274694\n",
      "  285.00237596  296.08653769   39.76334116   59.45622844  222.22987738\n",
      "  235.22246598  134.38352354  222.48120977  151.38254952   43.1612998\n",
      "  221.64284672  450.50692703   78.49626552  170.12507517   34.71830353\n",
      "  147.57804274  185.79160934   49.53119219   53.60958403  305.02052718\n",
      "  270.18798012   47.83493911   39.71841512  385.76405328  181.11953677\n",
      "   22.34074753   25.09466278   84.1259104    24.76023223  195.96157532\n",
      "   92.00919519  202.71217921  126.04745614  310.23939321   10.3928052\n",
      "   56.31841617   95.43410501  206.52897448  220.82985917  546.44724631\n",
      "  385.90670945  615.60530017  436.2689958   646.25355396  710.3937656\n",
      "  388.10316889  565.13127165  557.18066657  315.49033519  347.85622317\n",
      "  196.58775815  656.35404006  594.41482308   82.21200764  180.99685246\n",
      "  637.72061547  674.25397744  565.22546218  315.15251673  602.62113969\n",
      "  788.08596073  353.41073144  437.85672166  551.65756761  546.0171544\n",
      "  615.65396157  571.26319486  504.63699428  387.46585733  443.77569492\n",
      "  586.83186212  616.41165644  571.97266744  775.99630682  720.5982967\n",
      "  132.80196723  440.12365456  638.39392134  406.89325615  660.1715674\n",
      "  356.28957591  504.53798618  627.7050418   651.32189346  395.28458242\n",
      "  750.95051222  557.0080661   578.65347783  753.83074546  386.45811196\n",
      "  503.43543797  741.06009932  458.66750855  632.24295528  681.404159\n",
      "  659.38587003  571.5168008   720.29697972  694.6068131   502.63634538\n",
      "  441.12913223  600.20240453  700.54941746  686.27203782  686.51301015\n",
      "  688.31455883  714.20765545  600.17440765  724.11827791  487.34043809\n",
      "  435.05621832  535.5286997   505.91933547  465.53272678  417.14472836\n",
      "  371.507043    347.17786565  550.98164697  486.60039355  475.80173991\n",
      "  466.08202583  287.58183131  545.89959342  516.22929411  210.62068512\n",
      "  236.43336567  651.73644673  441.97704115  416.54339198  515.25629273\n",
      "  565.09752335  585.26284206  640.18238745  391.13817469  425.72501136\n",
      "  341.80278802  586.27083733  187.82095969  406.22157882  446.72507205\n",
      "  546.44244015  385.56581747  495.5036574   390.60007629  451.59861614\n",
      "  546.45862057  370.47653866  382.06856126  315.92756654  435.39221089\n",
      "  555.89515459  596.45510493  406.65772291  326.66004929  316.11052687\n",
      "  230.24002302  225.21518399  506.05936766]\n"
     ]
    }
   ],
   "source": [
    "print one_mode_L1_data.shape\n",
    "print one_mode_L1_data[0]\n",
    "print one_mode_L2_data[0]"
   ]
  },
  {
   "cell_type": "markdown",
   "metadata": {
    "slideshow": {
     "slide_type": "slide"
    }
   },
   "source": [
    "<h2>K-Means</h2>\n",
    "<ul>\n",
    "    <li>sklearn.cluster.Kmeans</li>\n",
    "    <li>input\n",
    "    <ul>\n",
    "        <li>k clusters</li>\n",
    "        <li>data (n object with p attribute)</li>\n",
    "    </ul>\n",
    "</ul>"
   ]
  },
  {
   "cell_type": "markdown",
   "metadata": {
    "slideshow": {
     "slide_type": "subslide"
    }
   },
   "source": [
    "n_clusters<br>\n",
    "&nbsp;&nbsp;&nbsp;the number of clusters to form as well as the number of centroids to generate<br>\n",
    "random_state"
   ]
  },
  {
   "cell_type": "code",
   "execution_count": 7,
   "metadata": {
    "slideshow": {
     "slide_type": "subslide"
    }
   },
   "outputs": [
    {
     "name": "stdout",
     "output_type": "stream",
     "text": [
      "[1 1 1 1 0 1 1 1 1 1 1 1 1 1 1 1 1 1 1 0 0 0 1 1 0 0 1 1 0 1 1 1 1 1 1 0 0\n",
      " 1 1 0 0 1 1 0 0 1 1 1 1 1 1 1 1 1 1 1 1 1 1 2 0 2 0 2 2 0 2 2 0 0 0 2 2 1\n",
      " 0 2 2 2 0 2 2 0 0 2 2 2 2 2 0 0 2 2 2 2 2 0 0 2 0 2 0 2 2 2 0 2 2 2 2 0 2\n",
      " 2 0 2 2 2 2 2 2 2 0 2 2 2 2 2 2 2 2 2 0 2 2 0 0 0 0 2 2 2 0 0 2 2 0 0 2 0\n",
      " 0 2 2 2 2 0 0 0 2 0 0 0 2 0 2 0 0 2 0 0 0 0 2 2 0 0 0 0 0 2]\n"
     ]
    }
   ],
   "source": [
    "from sklearn.cluster import KMeans\n",
    "\n",
    "kmeans = KMeans(n_clusters=3, random_state=0).fit(two_mode_data)\n",
    "print kmeans.labels_"
   ]
  },
  {
   "cell_type": "code",
   "execution_count": 8,
   "metadata": {
    "slideshow": {
     "slide_type": "subslide"
    }
   },
   "outputs": [
    {
     "name": "stdout",
     "output_type": "stream",
     "text": [
      "[[ -8.36077595   7.2849021 ]\n",
      " [ -8.53516197   6.52063942]\n",
      " [-10.26767826   8.3820467 ]\n",
      " [-12.37274551  10.30195427]\n",
      " [ -2.06231618   1.26026249]\n",
      " [-12.46025944   9.9488306 ]\n",
      " [-11.23775291   9.5406208 ]\n",
      " [-11.71478271   9.08666897]\n",
      " [ -8.03316593   6.94692612]\n",
      " [ -8.42941189   6.43167448]\n",
      " [-12.61712456  10.27634716]\n",
      " [-11.08740616   9.45271587]\n",
      " [-11.56860161   9.68096352]\n",
      " [ -9.79683685   7.97825718]\n",
      " [-12.71835995  10.3814621 ]\n",
      " [-11.71982574   9.35959339]\n",
      " [-11.54921532   8.86125278]\n",
      " [ -9.52083397   7.723773  ]\n",
      " [-12.91493607  10.55104351]\n",
      " [ -4.6251421    3.43368649]\n",
      " [ -3.14234877   2.24736857]\n",
      " [ -2.71136093   2.20888162]\n",
      " [ -7.8905015    6.73598719]\n",
      " [ -7.68187952   6.40010166]\n",
      " [ -4.37542105   3.80056858]\n",
      " [ -4.18484735   3.20568061]\n",
      " [-10.42653751   8.47989178]\n",
      " [-11.15320683   9.50528812]\n",
      " [ -5.74079323   4.58552551]\n",
      " [ -7.8804822    6.74764872]\n",
      " [-11.57347965   8.9817667 ]\n",
      " [-12.68220329  10.23360348]\n",
      " [ -7.44317913   5.95388842]\n",
      " [-10.98907185   8.63161564]\n",
      " [ -9.13307762   7.19248867]\n",
      " [ -5.83290958   4.66056204]\n",
      " [ -5.19433928   3.96760654]\n",
      " [ -9.03698826   7.60139179]\n",
      " [ -7.93525982   6.21031284]\n",
      " [ -2.77081084   1.77888381]\n",
      " [ -3.44953823   2.65470004]\n",
      " [ -8.25714779   6.28047323]\n",
      " [ -9.1542263    7.16883135]\n",
      " [ -0.16207422  -0.29553789]\n",
      " [ -5.24240923   4.11802959]\n",
      " [ -8.65236378   7.35230494]\n",
      " [ -8.77360916   6.78481007]\n",
      " [ -7.3612299    5.88740635]\n",
      " [ -8.32973671   7.13999844]\n",
      " [-10.93508816   9.12365055]\n",
      " [ -9.79834175   7.97716188]\n",
      " [-11.2098093    8.88979435]\n",
      " [-10.34176159   8.44221878]\n",
      " [-12.06450653   9.69999313]\n",
      " [ -8.71195793   6.69287586]\n",
      " [ -9.37362766   7.62258244]\n",
      " [ -6.97761869   5.61854219]\n",
      " [-10.98830509   9.29939079]\n",
      " [-11.58248806   8.9715414 ]\n",
      " [  6.96578836  -6.12169266]\n",
      " [ -0.1043792   -0.23661335]\n",
      " [ 10.56560326  -8.11166763]\n",
      " [  2.80724382  -1.4864285 ]\n",
      " [ 11.69936943  -9.00330448]\n",
      " [ 13.21871853 -10.53898716]\n",
      " [  0.21373458  -0.16870546]\n",
      " [  7.85680437  -6.69289541]\n",
      " [  7.4956584   -6.53015471]\n",
      " [ -2.29653049   1.72941136]\n",
      " [ -2.22085905   0.65159684]\n",
      " [ -4.85596323   4.01399851]\n",
      " [ 12.13890076  -9.1493063 ]\n",
      " [  9.3688488   -7.55592537]\n",
      " [ -7.17834282   5.83582592]\n",
      " [ -5.22920847   4.17039156]\n",
      " [ 11.42957401  -8.70134926]\n",
      " [ 12.63313675  -9.49808502]\n",
      " [  8.468503    -6.09159136]\n",
      " [ -2.64879823   1.44969368]\n",
      " [  9.98737812  -7.72629023]\n",
      " [ 14.38907623 -10.87689972]\n",
      " [ -0.93859822   0.93991154]\n",
      " [  1.80299771  -2.01214528]\n",
      " [  7.39269352  -6.20320511]\n",
      " [  7.2398839   -5.70105648]\n",
      " [ 10.55608845  -8.131217  ]\n",
      " [  8.42188168  -6.61773443]\n",
      " [  5.26947641  -4.09319258]\n",
      " [  0.42092335   0.16104126]\n",
      " [  1.93090403  -2.36202884]\n",
      " [  8.87571907  -7.35373402]\n",
      " [ 10.42959309  -8.33606529]\n",
      " [  8.25143623  -6.83843899]\n",
      " [ 14.30127621 -10.82921314]\n",
      " [ 13.42960167 -10.60207462]\n",
      " [ -6.31166697   5.05830956]\n",
      " [  3.12288046  -1.3922596 ]\n",
      " [ 11.32104015  -8.99397564]\n",
      " [  0.95669401  -0.72407824]\n",
      " [ 12.26884747  -9.21104431]\n",
      " [ -0.97661102   0.69900686]\n",
      " [  5.27362442  -4.10067511]\n",
      " [ 11.03043556  -8.45021725]\n",
      " [ 11.82496357  -9.23764515]\n",
      " [  0.71898055  -0.20265256]\n",
      " [ 13.93997669 -10.81339931]\n",
      " [  7.54528046  -6.46662426]\n",
      " [  8.64409542  -7.00720072]\n",
      " [ 13.94583797 -10.87320328]\n",
      " [  0.24041322   0.05356846]\n",
      " [  5.04455376  -4.49070549]\n",
      " [ 14.02518559 -10.39888763]\n",
      " [  3.28258419  -2.54066253]\n",
      " [ 11.11144543  -8.75427532]\n",
      " [ 12.57240391  -9.92221928]\n",
      " [ 12.06534481  -9.45968723]\n",
      " [  8.35514164  -6.69121361]\n",
      " [ 13.39231682 -10.71231651]\n",
      " [ 12.85429859 -10.22264862]\n",
      " [  5.14660597  -4.0238781 ]\n",
      " [  2.43484116  -1.9925561 ]\n",
      " [ 10.16212368  -7.31727314]\n",
      " [ 13.38192368  -9.92969513]\n",
      " [ 12.96753502  -9.67194748]\n",
      " [ 12.66047859 -10.04983902]\n",
      " [ 13.00244617  -9.72937202]\n",
      " [ 13.54929256 -10.1217165 ]\n",
      " [  9.72786236  -7.75240755]\n",
      " [ 13.76383686 -10.21089363]\n",
      " [  4.47019434  -3.62668681]\n",
      " [  2.68943024  -1.334059  ]\n",
      " [  6.63511086  -5.38936949]\n",
      " [  5.27066517  -4.41860485]\n",
      " [  3.57215118  -2.81136799]\n",
      " [  1.24340355  -1.2638371 ]\n",
      " [ -0.43614393   0.38057595]\n",
      " [ -1.19215822   1.07355833]\n",
      " [  7.62290716  -5.80291462]\n",
      " [  4.4470911   -3.64681387]\n",
      " [  3.99699831  -3.2941184 ]\n",
      " [  3.49986601  -2.91579247]\n",
      " [ -2.89295745   2.47485113]\n",
      " [  7.2763834   -5.62968016]\n",
      " [  5.80192471  -4.68687773]\n",
      " [ -4.75233221   3.64558697]\n",
      " [ -4.07224894   3.40662241]\n",
      " [ 11.74279404  -9.42088604]\n",
      " [  2.24010921  -2.1399188 ]\n",
      " [  1.3186177   -1.15806031]\n",
      " [  5.71207142  -4.82568932]\n",
      " [  7.78467751  -7.31979227]\n",
      " [  9.43170357  -6.87926054]\n",
      " [ 11.67241096  -8.38231754]\n",
      " [  0.25164869  -0.46644449]\n",
      " [  1.96832418  -1.0602814 ]\n",
      " [ -1.38487303   1.20517755]\n",
      " [  9.02762699  -7.22824764]\n",
      " [ -5.04446554   4.15876722]\n",
      " [  0.79378241  -0.87475193]\n",
      " [  2.58363271  -2.31980109]\n",
      " [  7.06925583  -5.97000456]\n",
      " [ -0.25062287  -0.36939445]\n",
      " [  4.73268557  -4.09050322]\n",
      " [  0.03614442  -0.57502937]\n",
      " [  2.76641417  -2.4530983 ]\n",
      " [  7.09516239  -5.93097925]\n",
      " [ -0.7292636    0.14051975]\n",
      " [  0.0532294    0.29154587]\n",
      " [ -2.17726111   1.81617856]\n",
      " [  2.50399113  -1.53423893]\n",
      " [  7.83806562  -6.00836229]\n",
      " [  9.42756271  -7.658288  ]\n",
      " [  0.898278    -0.76770538]\n",
      " [ -1.7725234    1.60290504]\n",
      " [ -2.14247346   1.8333087 ]\n",
      " [ -4.27275467   3.34817696]\n",
      " [ -4.43604422   3.39789772]\n",
      " [  5.28546572  -4.39835882]]\n"
     ]
    }
   ],
   "source": [
    "from sklearn.manifold import TSNE\n",
    "model = TSNE(n_components=2, random_state=0)\n",
    "result = model.fit_transform(two_mode_data)\n",
    "print result"
   ]
  },
  {
   "cell_type": "code",
   "execution_count": 9,
   "metadata": {
    "collapsed": true,
    "slideshow": {
     "slide_type": "subslide"
    }
   },
   "outputs": [],
   "source": [
    "from matplotlib.font_manager import FontProperties\n",
    "import matplotlib.pyplot as plt\n",
    "import numpy as np\n",
    "%matplotlib inline\n",
    "# Get current size\n",
    "fig_size = plt.rcParams[\"figure.figsize\"]\n",
    "# Set figure width to 12 and height to 9\n",
    "fig_size[0] = 4.0\n",
    "fig_size[1] = 3.0\n",
    "plt.rcParams[\"figure.figsize\"] = fig_size\n",
    "        \n",
    "\n"
   ]
  },
  {
   "cell_type": "code",
   "execution_count": 10,
   "metadata": {
    "slideshow": {
     "slide_type": "subslide"
    }
   },
   "outputs": [
    {
     "data": {
      "image/png": "[encoded data removed]",
      "text/plain": [
       "<matplotlib.figure.Figure at 0x8abb668>"
      ]
     },
     "metadata": {},
     "output_type": "display_data"
    }
   ],
   "source": [
    "result_0 = np.array([result[i] for i in range(len(kmeans.labels_)) if kmeans.labels_[i] == 0])\n",
    "result_1 = np.array([result[i] for i in range(len(kmeans.labels_)) if kmeans.labels_[i] == 1])\n",
    "result_2 = np.array([result[i] for i in range(len(kmeans.labels_)) if kmeans.labels_[i] == 2])\n",
    "\n",
    "plt.scatter(result_0[:,0], result_0[:,1], c='y', linewidths=0.5, s=10)\n",
    "plt.scatter(result_1[:,0], result_1[:,1], c='g', linewidths=0.5, s=10)\n",
    "plt.scatter(result_2[:,0], result_2[:,1], c='b', linewidths=0.5, s=10)\n",
    "flg_kmeans = plt"
   ]
  },
  {
   "cell_type": "markdown",
   "metadata": {
    "collapsed": true,
    "slideshow": {
     "slide_type": "slide"
    }
   },
   "source": [
    "<h2>Hierarchical Clustering</h2>\n",
    "<ul>\n",
    "<li>sklearn.cluster.AgglomerativeClustering\n",
    "<li>input\n",
    "    <ul>\n",
    "        <li>data (n objects by n objects)</li>\n",
    "    </ul>\n",
    "</ul>"
   ]
  },
  {
   "cell_type": "markdown",
   "metadata": {
    "slideshow": {
     "slide_type": "subslide"
    }
   },
   "source": [
    "n_clusters<br>\n",
    "&nbsp;&nbsp;&nbsp;The number of clusters to find<br>\n",
    "affinity<br>\n",
    "&nbsp;&nbsp;&nbsp;Can be 'euclidean'(default), 'L1', 'L2', 'manhattan', 'cosine' or 'precomputed'<br>\n",
    "linkage<br>\n",
    "&nbsp;&nbsp;&nbsp;'ward', 'complete', 'average'\n",
    "<p style=\"color:red\">If linkage is “ward”, only “euclidean” is accepted</p>"
   ]
  },
  {
   "cell_type": "code",
   "execution_count": 11,
   "metadata": {
    "slideshow": {
     "slide_type": "subslide"
    }
   },
   "outputs": [
    {
     "name": "stdout",
     "output_type": "stream",
     "text": [
      "[2 2 2 1 0 1 5 5 2 2 1 5 5 2 1 5 5 2 1 0 0 0 2 2 0 0 2 5 0 2 5 1 0 2 2 0 0\n",
      " 2 2 0 0 2 2 0 0 2 2 0 2 5 2 5 2 5 2 2 0 5 5 3 0 3 3 4 4 0 3 3 0 0 0 4 3 0\n",
      " 0 4 4 3 0 3 4 0 3 3 3 3 3 3 0 3 3 3 3 4 4 0 3 4 0 4 0 3 4 4 0 4 3 3 4 0 3\n",
      " 4 3 4 4 4 3 4 4 3 3 3 4 4 4 4 4 3 4 3 3 3 3 3 0 0 0 3 3 3 3 0 3 3 0 0 4 3\n",
      " 0 3 3 3 4 0 3 0 3 0 0 3 3 0 3 0 3 3 0 0 0 3 3 3 0 0 0 0 0 3]\n",
      "[2 2 2 1 0 1 5 5 2 2 1 5 5 2 1 5 5 2 1 0 0 0 2 2 0 0 2 5 0 2 5 1 0 2 2 0 0\n",
      " 2 2 0 0 2 2 0 0 2 2 0 2 5 2 5 2 5 2 2 0 5 5 3 0 3 3 4 4 0 3 3 0 0 0 4 3 0\n",
      " 0 4 4 3 0 3 4 0 3 3 3 3 3 3 0 3 3 3 3 4 4 0 3 4 0 4 0 3 4 4 0 4 3 3 4 0 3\n",
      " 4 3 4 4 4 3 4 4 3 3 3 4 4 4 4 4 3 4 3 3 3 3 3 0 0 0 3 3 3 3 0 3 3 0 0 4 3\n",
      " 0 3 3 3 4 0 3 0 3 0 0 3 3 0 3 0 3 3 0 0 0 3 3 3 0 0 0 0 0 3]\n"
     ]
    }
   ],
   "source": [
    "from sklearn.cluster import AgglomerativeClustering\n",
    "L2_hierarchical_1 = AgglomerativeClustering(n_clusters=6, linkage='complete').fit(two_mode_data)\n",
    "L2_hierarchical_2 = AgglomerativeClustering(n_clusters=6, linkage='complete',affinity='precomputed').fit(one_mode_L2_data)\n",
    "print L2_hierarchical_1.labels_\n",
    "print L2_hierarchical_2.labels_"
   ]
  },
  {
   "cell_type": "code",
   "execution_count": 12,
   "metadata": {
    "collapsed": true,
    "slideshow": {
     "slide_type": "subslide"
    }
   },
   "outputs": [],
   "source": [
    "hierarchical_example = AgglomerativeClustering(n_clusters=3, linkage='complete').fit(two_mode_data)"
   ]
  },
  {
   "cell_type": "code",
   "execution_count": 13,
   "metadata": {
    "collapsed": true,
    "slideshow": {
     "slide_type": "-"
    }
   },
   "outputs": [],
   "source": [
    "from matplotlib.font_manager import FontProperties\n",
    "import matplotlib.pyplot as plt\n",
    "import numpy as np\n",
    "%matplotlib inline\n",
    "# Get current size\n",
    "fig_size = plt.rcParams[\"figure.figsize\"]\n",
    "# Set figure width to 12 and height to 9\n",
    "fig_size[0] = 4.0\n",
    "fig_size[1] = 3.0\n",
    "plt.rcParams[\"figure.figsize\"] = fig_size"
   ]
  },
  {
   "cell_type": "code",
   "execution_count": 14,
   "metadata": {
    "slideshow": {
     "slide_type": "subslide"
    }
   },
   "outputs": [
    {
     "data": {
      "image/png": "[encoded data removed]",
      "text/plain": [
       "<matplotlib.figure.Figure at 0xb5569e8>"
      ]
     },
     "metadata": {},
     "output_type": "display_data"
    }
   ],
   "source": [
    "result_0 = np.array([result[i] for i in range(len(hierarchical_example.labels_)) if hierarchical_example.labels_[i] == 0])\n",
    "result_1 = np.array([result[i] for i in range(len(hierarchical_example.labels_)) if hierarchical_example.labels_[i] == 1])\n",
    "result_2 = np.array([result[i] for i in range(len(hierarchical_example.labels_)) if hierarchical_example.labels_[i] == 2])\n",
    "\n",
    "plt.scatter(result_0[:,0], result_0[:,1], c='y', linewidths=0.5, s=10)\n",
    "plt.scatter(result_1[:,0], result_1[:,1], c='g', linewidths=0.5, s=10)\n",
    "plt.scatter(result_2[:,0], result_2[:,1], c='b', linewidths=0.5, s=10)\n",
    "flg_hierarchical = plt"
   ]
  },
  {
   "cell_type": "markdown",
   "metadata": {
    "collapsed": true,
    "slideshow": {
     "slide_type": "slide"
    }
   },
   "source": [
    "<h2>Gaussian Mixture Mode</h2>\n",
    "<ul>\n",
    "<li>sklearn.mixture.GaussianMixture\n",
    "<li>input\n",
    "    <ul>\n",
    "        <li>k clusters\n",
    "        <li>data (n object with p attributes)</li>\n",
    "    </ul>\n",
    "</ul>"
   ]
  },
  {
   "cell_type": "markdown",
   "metadata": {
    "slideshow": {
     "slide_type": "subslide"
    }
   },
   "source": [
    "n_components<br>\n",
    "&nbsp;&nbsp;&nbsp;The number of mixture components<br>\n",
    "covariance_type<br>\n",
    "&nbsp;&nbsp;&nbsp;‘full’, ‘tied’, ‘diag’, ‘spherical’<br> \n",
    "random_state<br>"
   ]
  },
  {
   "cell_type": "code",
   "execution_count": 15,
   "metadata": {
    "scrolled": true,
    "slideshow": {
     "slide_type": "subslide"
    }
   },
   "outputs": [
    {
     "name": "stdout",
     "output_type": "stream",
     "text": [
      "[1 1 1 1 1 1 1 1 1 1 1 1 1 1 1 1 1 1 1 0 1 0 1 1 1 1 1 1 1 1 1 1 1 1 1 1 1\n",
      " 1 1 0 1 1 1 1 1 1 1 1 1 1 1 1 1 1 1 1 1 1 1 2 0 2 2 2 2 1 2 2 0 0 0 2 2 1\n",
      " 0 2 2 2 0 2 2 1 2 2 0 1 2 2 2 2 2 2 2 2 2 0 0 2 2 2 2 2 1 2 2 2 2 2 2 0 2\n",
      " 2 2 2 2 2 2 1 2 2 2 2 2 2 2 2 2 2 2 2 0 2 2 2 0 0 0 0 0 0 0 0 0 0 0 0 2 0\n",
      " 0 2 2 2 2 0 0 0 0 0 0 0 0 0 0 0 0 0 0 0 0 0 0 0 0 0 0 0 0 0]\n"
     ]
    }
   ],
   "source": [
    "from sklearn.mixture import GaussianMixture\n",
    "gmm = GaussianMixture(n_components=3,random_state=0)\n",
    "gmm.fit(two_mode_data)\n",
    "gmm_labels = gmm.predict(two_mode_data)\n",
    "print gmm_labels"
   ]
  },
  {
   "cell_type": "code",
   "execution_count": 16,
   "metadata": {
    "collapsed": true,
    "slideshow": {
     "slide_type": "subslide"
    }
   },
   "outputs": [],
   "source": [
    "from matplotlib.font_manager import FontProperties\n",
    "import matplotlib.pyplot as plt\n",
    "import numpy as np\n",
    "%matplotlib inline\n",
    "# Get current size\n",
    "fig_size = plt.rcParams[\"figure.figsize\"]\n",
    "# Set figure width to 12 and height to 9\n",
    "fig_size[0] = 4.0\n",
    "fig_size[1] = 3.0\n",
    "plt.rcParams[\"figure.figsize\"] = fig_size"
   ]
  },
  {
   "cell_type": "code",
   "execution_count": 17,
   "metadata": {
    "slideshow": {
     "slide_type": "subslide"
    }
   },
   "outputs": [
    {
     "data": {
      "image/png": "[encoded data removed]",
      "text/plain": [
       "<matplotlib.figure.Figure at 0xb8cd278>"
      ]
     },
     "metadata": {},
     "output_type": "display_data"
    }
   ],
   "source": [
    "result_0 = np.array([result[i] for i in range(len(gmm_labels)) if gmm_labels[i] == 0])\n",
    "result_1 = np.array([result[i] for i in range(len(gmm_labels)) if gmm_labels[i] == 1])\n",
    "result_2 = np.array([result[i] for i in range(len(gmm_labels)) if gmm_labels[i] == 2])\n",
    "\n",
    "plt.scatter(result_0[:,0], result_0[:,1], c='y', linewidths=0.5, s=10)\n",
    "plt.scatter(result_1[:,0], result_1[:,1], c='g', linewidths=0.5, s=10)\n",
    "plt.scatter(result_2[:,0], result_2[:,1], c='b', linewidths=0.5, s=10)\n",
    "flg_gmm = plt"
   ]
  },
  {
   "cell_type": "markdown",
   "metadata": {},
   "source": [
    "<h2>DBScan</h2>\n",
    "<ul>\n",
    "<li>sklearn.cluster.DBSCAN\n",
    "<li>input\n",
    "    <ul>\n",
    "        <li>Eps</li>\n",
    "        <li>MinPts</li>\n",
    "        <li>data (n object with p attributes)</li>\n",
    "    </ul>\n",
    "</ul>"
   ]
  },
  {
   "cell_type": "markdown",
   "metadata": {},
   "source": [
    "eps<br>\n",
    "&nbsp;&nbsp;&nbsp;The maximum distance between two samples for them to be considered as in the same neighborhood<br>\n",
    "min_samples<br>\n",
    "&nbsp;&nbsp;&nbsp;The number of samples (or total weight) in a neighborhood for a point to be considered as a core point"
   ]
  },
  {
   "cell_type": "code",
   "execution_count": 18,
   "metadata": {},
   "outputs": [
    {
     "name": "stdout",
     "output_type": "stream",
     "text": [
      "[ 0  0 -1 -1 -1 -1  1  1  0  0 -1  1 -1 -1 -1  1  1 -1 -1  3 -1 -1  0  0  3\n",
      "  3 -1  1 -1  0  1 -1 -1 -1 -1 -1  3 -1  0 -1 -1  0 -1  2 -1  0  0 -1  0  1\n",
      " -1  1 -1 -1  0 -1 -1  1  1  2  2  2  2  2  2  2  2  2 -1 -1  3  2  2 -1 -1\n",
      "  2  2  2 -1  2 -1  2  2  2  2  2  2  2  2  2  2  2  2 -1  2 -1  2  2  2  2\n",
      "  2  2  2  2  2 -1  2  2 -1  2  2  2  2  2  2  2  2  2  2  2  2  2  2  2  2\n",
      "  2  2  2  2  2  2  2  2  2  2  2  2  2  2  2  2 -1  2  2  3  3  2  2  2  2\n",
      "  2  2  2  2  2 -1  2 -1  2  2  2  2  2  2  2  2  2  2 -1  2  2  2  2 -1 -1\n",
      "  3  3  2]\n"
     ]
    }
   ],
   "source": [
    "from sklearn.cluster import DBSCAN\n",
    "dbscan = DBSCAN(eps=30, min_samples=9)\n",
    "dbscan.fit(two_mode_data)\n",
    "dbscan_labels = dbscan.labels_\n",
    "print dbscan_labels"
   ]
  },
  {
   "cell_type": "code",
   "execution_count": 19,
   "metadata": {},
   "outputs": [
    {
     "name": "stdout",
     "output_type": "stream",
     "text": [
      "4\n"
     ]
    }
   ],
   "source": [
    "n_clusters = len(set(dbscan_labels)) - (1 if -1 in dbscan_labels else 0)\n",
    "print n_clusters"
   ]
  },
  {
   "cell_type": "code",
   "execution_count": 20,
   "metadata": {},
   "outputs": [
    {
     "name": "stdout",
     "output_type": "stream",
     "text": [
      "0 : 13\n",
      "1 : 11\n",
      "2 : 99\n",
      "3 : 9\n",
      "outlier :  46\n"
     ]
    }
   ],
   "source": [
    "for index in range(n_clusters):\n",
    "    print index, \":\", dbscan_labels.tolist().count(index)\n",
    "print \"outlier : \", dbscan_labels.tolist().count(-1)"
   ]
  },
  {
   "cell_type": "code",
   "execution_count": 21,
   "metadata": {
    "collapsed": true
   },
   "outputs": [],
   "source": [
    "from matplotlib.font_manager import FontProperties\n",
    "import matplotlib.pyplot as plt\n",
    "import numpy as np\n",
    "%matplotlib inline\n",
    "# Get current size\n",
    "fig_size = plt.rcParams[\"figure.figsize\"]\n",
    "# Set figure width to 12 and height to 9\n",
    "fig_size[0] = 8.0\n",
    "fig_size[1] = 6\n",
    ".0\n",
    "plt.rcParams[\"figure.figsize\"] = fig_size"
   ]
  },
  {
   "cell_type": "code",
   "execution_count": 22,
   "metadata": {
    "scrolled": true
   },
   "outputs": [
    {
     "data": {
      "image/png": "[encoded data removed]",
      "text/plain": [
       "<matplotlib.figure.Figure at 0xb8a1b70>"
      ]
     },
     "metadata": {},
     "output_type": "display_data"
    }
   ],
   "source": [
    "result_0 = np.array([result[i] for i in range(len(dbscan_labels)) if dbscan_labels[i] == 0])\n",
    "result_1 = np.array([result[i] for i in range(len(dbscan_labels)) if dbscan_labels[i] == 1])\n",
    "result_2 = np.array([result[i] for i in range(len(dbscan_labels)) if dbscan_labels[i] == 2])\n",
    "result_3 = np.array([result[i] for i in range(len(dbscan_labels)) if dbscan_labels[i] == 3])\n",
    "outlier = np.array([result[i] for i in range(len(dbscan_labels)) if dbscan_labels[i] == -1])\n",
    "\n",
    "\n",
    "plt.scatter(result_0[:,0], result_0[:,1], c='y', linewidths=0.5, s=5)\n",
    "plt.scatter(result_1[:,0], result_1[:,1], c='g', linewidths=0.5, s=5)\n",
    "plt.scatter(result_2[:,0], result_2[:,1], c='b', linewidths=0.5, s=5)\n",
    "plt.scatter(result_3[:,0], result_3[:,1], c='m', linewidths=0.5, s=5)\n",
    "plt.scatter(outlier[:,0], outlier[:,1], c='r', linewidths=0.5, s=10)\n",
    "flg_gmm = plt"
   ]
  },
  {
   "cell_type": "code",
   "execution_count": null,
   "metadata": {
    "collapsed": true
   },
   "outputs": [],
   "source": []
  }
 ],
 "metadata": {
  "celltoolbar": "Slideshow",
  "kernelspec": {
   "display_name": "Python 2",
   "language": "python",
   "name": "python2"
  },
  "language_info": {
   "codemirror_mode": {
    "name": "ipython",
    "version": 2
   },
   "file_extension": ".py",
   "mimetype": "text/x-python",
   "name": "python",
   "nbconvert_exporter": "python",
   "pygments_lexer": "ipython2",
   "version": "2.7.14"
  }
 },
 "nbformat": 4,
 "nbformat_minor": 1
}
