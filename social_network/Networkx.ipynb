{
 "cells": [
  {
   "cell_type": "markdown",
   "metadata": {
    "slideshow": {
     "slide_type": "slide"
    }
   },
   "source": [
    "# NetworkX "
   ]
  },
  {
   "cell_type": "markdown",
   "metadata": {
    "slideshow": {
     "slide_type": "subslide"
    }
   },
   "source": [
    "NetworkX is a Python package for the creation, manipulation, and study of the structure, dynamics, and functions of complex networks\n"
   ]
  },
  {
   "cell_type": "code",
   "execution_count": 1,
   "metadata": {
    "slideshow": {
     "slide_type": "subslide"
    }
   },
   "outputs": [
    {
     "name": "stdout",
     "output_type": "stream",
     "text": [
      "Populating the interactive namespace from numpy and matplotlib\n"
     ]
    }
   ],
   "source": [
    "%pylab inline\n",
    "import networkx as nx\n"
   ]
  },
  {
   "cell_type": "markdown",
   "metadata": {
    "slideshow": {
     "slide_type": "subslide"
    }
   },
   "source": [
    "#### test if networkx is working"
   ]
  },
  {
   "cell_type": "code",
   "execution_count": 2,
   "metadata": {
    "slideshow": {
     "slide_type": "-"
    }
   },
   "outputs": [
    {
     "name": "stdout",
     "output_type": "stream",
     "text": [
      "<module 'networkx' from 'C:\\Users\\kevinlin\\Anaconda2\\lib\\site-packages\\networkx\\__init__.pyc'>\n",
      "1.11\n"
     ]
    }
   ],
   "source": [
    "import networkx as nx\n",
    "print nx\n",
    "print nx.__version__"
   ]
  },
  {
   "cell_type": "markdown",
   "metadata": {
    "slideshow": {
     "slide_type": "slide"
    }
   },
   "source": [
    "## basic operations"
   ]
  },
  {
   "cell_type": "code",
   "execution_count": 3,
   "metadata": {
    "slideshow": {
     "slide_type": "subslide"
    }
   },
   "outputs": [
    {
     "name": "stdout",
     "output_type": "stream",
     "text": [
      "{1: {}, 2: {3: {}}, 3: {2: {}}}\n"
     ]
    }
   ],
   "source": [
    "G = nx.Graph()     # build undirected graph\n",
    "G.add_node(1)      # add a node named \"1\"(1 is the label)\n",
    "G.add_edge(2,3)    # add an edge from node2 to node3 \n",
    "                   #  if node2 and node3 do not exist, it will auto add node2 and node3\n",
    "G.add_edge(3,2)    # add an edge from node3 to node2\n",
    "print G.edge\n",
    "G.add_edge(1,3)\n",
    "G.add_edge(2,4)\n",
    "G.add_edge(3,4)"
   ]
  },
  {
   "cell_type": "markdown",
   "metadata": {
    "slideshow": {
     "slide_type": "subslide"
    }
   },
   "source": [
    "Graph(): Undirected Graph<br>\n",
    "DiGraph(): Directed Graph<br>\n",
    "MultiGraph(): Multiedges Undirected Graph<br>\n",
    "MultiDiGraph(): Multiedges Directed Graph<br>"
   ]
  },
  {
   "cell_type": "code",
   "execution_count": 4,
   "metadata": {
    "slideshow": {
     "slide_type": "subslide"
    }
   },
   "outputs": [
    {
     "name": "stdout",
     "output_type": "stream",
     "text": [
      "[1, 2, 3, 4]\n",
      "[(1, 3), (2, 3), (2, 4), (3, 4)]\n",
      "4\n",
      "4\n",
      "[3, 4]\n",
      "2\n"
     ]
    }
   ],
   "source": [
    "print G.nodes()\n",
    "print G.edges()\n",
    "print G.number_of_edges()\n",
    "print G.number_of_nodes()\n",
    "print list(G.adj[2])\n",
    "print G.degree(2)"
   ]
  },
  {
   "cell_type": "markdown",
   "metadata": {
    "slideshow": {
     "slide_type": "slide"
    }
   },
   "source": [
    "## use draw() function in networkx to plot the graph figure"
   ]
  },
  {
   "cell_type": "markdown",
   "metadata": {
    "slideshow": {
     "slide_type": "subslide"
    }
   },
   "source": [
    "node_size   :  the size of all nodes<br>\n",
    "node_color  :  the color of all nodes<br>\n",
    "node_shape  :  the shape of all nodes<br>\n",
    "alpha       :  transparency<br>\n",
    "width       :  width of edge<br>\n",
    "edge_color  :  color of edge<br>\n",
    "style       :  style of edge<br>\n",
    "with_labels :  node with label<br>\n",
    "font_size   :  size of label<br>\n",
    "font_color  :  color of label<br>"
   ]
  },
  {
   "cell_type": "code",
   "execution_count": 5,
   "metadata": {
    "slideshow": {
     "slide_type": "subslide"
    }
   },
   "outputs": [
    {
     "data": {
      "image/png": "[encoded data removed]",
      "text/plain": [
       "<matplotlib.figure.Figure at 0x9260e48>"
      ]
     },
     "metadata": {},
     "output_type": "display_data"
    }
   ],
   "source": [
    "#disable the warnings\n",
    "import warnings\n",
    "warnings.filterwarnings(\"ignore\")\n",
    "\n",
    "nx.draw(G,with_labels=True)"
   ]
  },
  {
   "cell_type": "markdown",
   "metadata": {
    "slideshow": {
     "slide_type": "slide"
    }
   },
   "source": [
    "### Layout"
   ]
  },
  {
   "cell_type": "markdown",
   "metadata": {
    "slideshow": {
     "slide_type": "subslide"
    }
   },
   "source": [
    "circular_layout： Position nodes on a circle<br>\n",
    "random_layout  ： Position nodes uniformly at random in the unit square<br>\n",
    "shell_layout   ： Position nodes in concentric circles<br>\n",
    "spring_layout  ： Position nodes using Fruchterman-Reingold force-directed algorithm<br>\n",
    "spectral_layout： Position nodes using the eigenvectors of the graph Laplacian<br>"
   ]
  },
  {
   "cell_type": "code",
   "execution_count": 6,
   "metadata": {
    "slideshow": {
     "slide_type": "subslide"
    }
   },
   "outputs": [
    {
     "data": {
      "image/png": "[encoded data removed]",
      "text/plain": [
       "<matplotlib.figure.Figure at 0x94e3b38>"
      ]
     },
     "metadata": {},
     "output_type": "display_data"
    }
   ],
   "source": [
    "#setting\n",
    "pos_cir = nx.circular_layout(G)\n",
    "#draw\n",
    "nx.draw(G,pos_cir,with_labels=True)"
   ]
  },
  {
   "cell_type": "code",
   "execution_count": 7,
   "metadata": {
    "slideshow": {
     "slide_type": "subslide"
    }
   },
   "outputs": [
    {
     "data": {
      "image/png": "[encoded data removed]",
      "text/plain": [
       "<matplotlib.figure.Figure at 0x93547b8>"
      ]
     },
     "metadata": {},
     "output_type": "display_data"
    }
   ],
   "source": [
    "#setting\n",
    "pos_cir = nx.random_layout(G)\n",
    "#draw\n",
    "nx.draw(G,pos_cir,with_labels=True)"
   ]
  },
  {
   "cell_type": "markdown",
   "metadata": {
    "slideshow": {
     "slide_type": "slide"
    }
   },
   "source": [
    "### Another way to add nodes and edges"
   ]
  },
  {
   "cell_type": "code",
   "execution_count": 8,
   "metadata": {
    "collapsed": true,
    "slideshow": {
     "slide_type": "subslide"
    }
   },
   "outputs": [],
   "source": [
    "G = nx.Graph()\n",
    "G.add_nodes_from([1,2,3,4,5])\n",
    "G.add_edges_from([(4,5), (4,2)])"
   ]
  },
  {
   "cell_type": "code",
   "execution_count": 9,
   "metadata": {
    "slideshow": {
     "slide_type": "subslide"
    }
   },
   "outputs": [
    {
     "name": "stdout",
     "output_type": "stream",
     "text": [
      "[1, 2, 3, 4, 5]\n",
      "[(2, 4), (4, 5)]\n"
     ]
    }
   ],
   "source": [
    "print G.nodes()\n",
    "print G.edges()"
   ]
  },
  {
   "cell_type": "markdown",
   "metadata": {
    "slideshow": {
     "slide_type": "slide"
    }
   },
   "source": [
    "### Path_Graph"
   ]
  },
  {
   "cell_type": "code",
   "execution_count": 10,
   "metadata": {
    "slideshow": {
     "slide_type": "subslide"
    }
   },
   "outputs": [
    {
     "name": "stdout",
     "output_type": "stream",
     "text": [
      "{0: {}, 1: {}, 2: {}, 3: {}, 4: {}, 5: {}, 6: {}, 7: {}, 8: {}, 9: {}}\n",
      "{0: {1: {}}, 1: {0: {}, 2: {}}, 2: {1: {}, 3: {}}, 3: {2: {}, 4: {}}, 4: {3: {}, 5: {}}, 5: {4: {}, 6: {}}, 6: {5: {}, 7: {}}, 7: {8: {}, 6: {}}, 8: {9: {}, 7: {}}, 9: {8: {}}}\n",
      "{1: {}} {0: {}, 2: {}} {1: {}, 3: {}}\n"
     ]
    }
   ],
   "source": [
    "H = nx.path_graph(10)\n",
    "\n",
    "print H.node\n",
    "print H.edge\n",
    "print H[0], H[1], H[2]"
   ]
  },
  {
   "cell_type": "markdown",
   "metadata": {
    "slideshow": {
     "slide_type": "slide"
    }
   },
   "source": [
    "### Edge Weight"
   ]
  },
  {
   "cell_type": "code",
   "execution_count": 11,
   "metadata": {
    "slideshow": {
     "slide_type": "subslide"
    }
   },
   "outputs": [
    {
     "name": "stdout",
     "output_type": "stream",
     "text": [
      "{1: {}, 2: {3: {}}, 3: {2: {}}}\n"
     ]
    }
   ],
   "source": [
    "G = nx.Graph()\n",
    "G.add_nodes_from([1,2,3])\n",
    "G.add_edge(2,3)\n",
    "print G.edge"
   ]
  },
  {
   "cell_type": "code",
   "execution_count": 12,
   "metadata": {
    "slideshow": {
     "slide_type": "subslide"
    }
   },
   "outputs": [
    {
     "name": "stdout",
     "output_type": "stream",
     "text": [
      "{1: {2: {'weight': 3.1415}}, 2: {1: {'weight': 3.1415}, 3: {}}, 3: {2: {}}}\n"
     ]
    }
   ],
   "source": [
    "G.add_edge(1,2,weight=3.1415)\n",
    "print G.edge"
   ]
  },
  {
   "cell_type": "markdown",
   "metadata": {
    "slideshow": {
     "slide_type": "slide"
    }
   },
   "source": [
    "### Remove & Clear"
   ]
  },
  {
   "cell_type": "code",
   "execution_count": 13,
   "metadata": {
    "slideshow": {
     "slide_type": "subslide"
    }
   },
   "outputs": [
    {
     "name": "stdout",
     "output_type": "stream",
     "text": [
      "{1: {3: {}}, 2: {3: {}}, 3: {1: {}, 2: {}, 4: {}}, 4: {3: {}}}\n"
     ]
    }
   ],
   "source": [
    "G = nx.Graph()\n",
    "G.add_nodes_from([1,2,3,4])\n",
    "G.add_edge(1,3)\n",
    "G.add_edge(2,3)\n",
    "G.add_edge(3,4)\n",
    "print G.edge\n"
   ]
  },
  {
   "cell_type": "code",
   "execution_count": 14,
   "metadata": {
    "slideshow": {
     "slide_type": "subslide"
    }
   },
   "outputs": [
    {
     "name": "stdout",
     "output_type": "stream",
     "text": [
      "{1: {3: {}}, 2: {3: {}}, 3: {1: {}, 2: {}}}\n"
     ]
    }
   ],
   "source": [
    "G.remove_node(4)\n",
    "print G.edge"
   ]
  },
  {
   "cell_type": "code",
   "execution_count": 15,
   "metadata": {
    "slideshow": {
     "slide_type": "subslide"
    }
   },
   "outputs": [
    {
     "name": "stdout",
     "output_type": "stream",
     "text": [
      "{1: {}, 2: {}, 3: {}}\n",
      "{1: {3: {}}, 2: {}, 3: {1: {}}}\n"
     ]
    }
   ],
   "source": [
    "G.remove_edge(2,3)\n",
    "print G.node\n",
    "print G.edge"
   ]
  },
  {
   "cell_type": "code",
   "execution_count": 16,
   "metadata": {
    "slideshow": {
     "slide_type": "subslide"
    }
   },
   "outputs": [
    {
     "name": "stdout",
     "output_type": "stream",
     "text": [
      "{}\n",
      "{}\n"
     ]
    }
   ],
   "source": [
    "G.clear()\n",
    "print G.node\n",
    "print G.edge"
   ]
  },
  {
   "cell_type": "markdown",
   "metadata": {
    "slideshow": {
     "slide_type": "slide"
    }
   },
   "source": [
    "### Directed Graphs"
   ]
  },
  {
   "cell_type": "code",
   "execution_count": 17,
   "metadata": {
    "slideshow": {
     "slide_type": "subslide"
    }
   },
   "outputs": [
    {
     "name": "stdout",
     "output_type": "stream",
     "text": [
      "{1: {}, 2: {3: {}}, 3: {2: {}}}\n"
     ]
    }
   ],
   "source": [
    "DG = nx.DiGraph()\n",
    "DG.add_node(1)\n",
    "DG.add_edge(2,3)\n",
    "DG.add_edge(3,2)\n",
    "print DG.edge"
   ]
  },
  {
   "cell_type": "code",
   "execution_count": 18,
   "metadata": {
    "slideshow": {
     "slide_type": "subslide"
    }
   },
   "outputs": [
    {
     "name": "stdout",
     "output_type": "stream",
     "text": [
      "{1: {2: {'weight': 0.5}, 4: {'weight': 0.4}}, 2: {}, 3: {1: {'weight': 0.75}}, 4: {}}\n"
     ]
    }
   ],
   "source": [
    "DG = nx.DiGraph()\n",
    "DG.add_weighted_edges_from([(1,2,0.5),(3,1,0.75),(1,4,0.4)])\n",
    "print DG.edge"
   ]
  },
  {
   "cell_type": "code",
   "execution_count": 19,
   "metadata": {
    "slideshow": {
     "slide_type": "subslide"
    }
   },
   "outputs": [
    {
     "name": "stdout",
     "output_type": "stream",
     "text": [
      "3\n",
      "2\n",
      "1\n",
      "0.9\n",
      "1.65\n",
      "[2, 4]\n"
     ]
    }
   ],
   "source": [
    "print DG.degree(1)   #outdegree:2 indegree:1\n",
    "print DG.out_degree(1)\n",
    "print DG.in_degree(1)\n",
    "print DG.out_degree(1,weight='weight')  #the sum of the weight of node1's out degree\n",
    "print DG.degree(1,weight='weight')      #the sum of the weight of node1'a out degree + in degree\n",
    "print DG.neighbors(1)"
   ]
  },
  {
   "cell_type": "code",
   "execution_count": 20,
   "metadata": {
    "slideshow": {
     "slide_type": "subslide"
    }
   },
   "outputs": [
    {
     "data": {
      "image/png": "[encoded data removed]",
      "text/plain": [
       "<matplotlib.figure.Figure at 0x97037b8>"
      ]
     },
     "metadata": {},
     "output_type": "display_data"
    }
   ],
   "source": [
    "nx.draw(DG,with_labels=True)"
   ]
  },
  {
   "cell_type": "markdown",
   "metadata": {
    "slideshow": {
     "slide_type": "slide"
    }
   },
   "source": [
    "### Accessing nodes"
   ]
  },
  {
   "cell_type": "markdown",
   "metadata": {
    "slideshow": {
     "slide_type": "subslide"
    }
   },
   "source": [
    "#### Use adjacency_iter() to visit all the node in graph<br> return (node,adjacencydict)"
   ]
  },
  {
   "cell_type": "code",
   "execution_count": 21,
   "metadata": {
    "slideshow": {
     "slide_type": "subslide"
    }
   },
   "outputs": [
    {
     "name": "stdout",
     "output_type": "stream",
     "text": [
      "{0: {1: {}}, 1: {0: {}, 2: {}}, 2: {1: {}, 3: {}}, 3: {2: {}}}\n"
     ]
    }
   ],
   "source": [
    "G = nx.Graph()\n",
    "G.add_path([0,1,2,3])\n",
    "print G.edge"
   ]
  },
  {
   "cell_type": "code",
   "execution_count": 22,
   "metadata": {
    "slideshow": {
     "slide_type": "subslide"
    }
   },
   "outputs": [
    {
     "name": "stdout",
     "output_type": "stream",
     "text": [
      "0 {1: {}}\n",
      "1 {0: {}, 2: {}}\n",
      "2 {1: {}, 3: {}}\n",
      "3 {2: {}}\n"
     ]
    }
   ],
   "source": [
    "for n,nbrdict in G.adjacency_iter():\n",
    "    print n,nbrdict"
   ]
  },
  {
   "cell_type": "markdown",
   "metadata": {
    "slideshow": {
     "slide_type": "slide"
    }
   },
   "source": [
    "### Save your graph"
   ]
  },
  {
   "cell_type": "code",
   "execution_count": 23,
   "metadata": {
    "collapsed": true,
    "slideshow": {
     "slide_type": "subslide"
    }
   },
   "outputs": [],
   "source": [
    "import pickle\n",
    "G = nx.path_graph(10)\n",
    "pickle.dump(G,open('networkx_example.txt','w'))"
   ]
  },
  {
   "cell_type": "code",
   "execution_count": 24,
   "metadata": {
    "slideshow": {
     "slide_type": "subslide"
    }
   },
   "outputs": [
    {
     "data": {
      "text/plain": [
       "{0: {1: {}},\n",
       " 1: {0: {}, 2: {}},\n",
       " 2: {1: {}, 3: {}},\n",
       " 3: {2: {}, 4: {}},\n",
       " 4: {3: {}, 5: {}},\n",
       " 5: {4: {}, 6: {}},\n",
       " 6: {5: {}, 7: {}},\n",
       " 7: {6: {}, 8: {}},\n",
       " 8: {7: {}, 9: {}},\n",
       " 9: {8: {}}}"
      ]
     },
     "execution_count": 24,
     "metadata": {},
     "output_type": "execute_result"
    }
   ],
   "source": [
    "G_load = pickle.load(open('networkx_example.txt'))\n",
    "G_load.edge"
   ]
  },
  {
   "cell_type": "markdown",
   "metadata": {
    "collapsed": true,
    "slideshow": {
     "slide_type": "slide"
    }
   },
   "source": [
    "## Example: DFS"
   ]
  },
  {
   "cell_type": "code",
   "execution_count": 25,
   "metadata": {
    "slideshow": {
     "slide_type": "subslide"
    }
   },
   "outputs": [
    {
     "data": {
      "image/png": "[encoded data removed]",
      "text/plain": [
       "<matplotlib.figure.Figure at 0x980dc50>"
      ]
     },
     "metadata": {},
     "output_type": "display_data"
    }
   ],
   "source": [
    "G = nx.Graph()  \n",
    "G.add_edges_from([(1,5), (1,2), (2,3), (2,4), (3,4), (3,5), (4,5), (5,3)])  \n",
    "stack = [1]  # Start from node1  \n",
    "visit_list = []  \n",
    "nx.draw(G, with_labels=True)"
   ]
  },
  {
   "cell_type": "code",
   "execution_count": 26,
   "metadata": {
    "slideshow": {
     "slide_type": "subslide"
    }
   },
   "outputs": [
    {
     "name": "stdout",
     "output_type": "stream",
     "text": [
      "\t[Info] Visit 1...\n",
      "\t[Info] Put 2 in stack...\n",
      "\t[Info] Put 5 in stack...\n",
      "\tStack list=[2, 5]\n",
      "\tVisit list=[1]\n",
      "\t[Info] Visit 5...\n",
      "\t[Info] Put 3 in stack...\n",
      "\t[Info] Put 4 in stack...\n",
      "\tStack list=[2, 3, 4]\n",
      "\tVisit list=[1, 5]\n",
      "\t[Info] Visit 4...\n",
      "\t[Info] Put 2 in stack...\n",
      "\t[Info] Put 3 in stack...\n",
      "\tStack list=[2, 3, 2, 3]\n",
      "\tVisit list=[1, 5, 4]\n",
      "\t[Info] Visit 3...\n",
      "\t[Info] Put 2 in stack...\n",
      "\tStack list=[2, 3, 2, 2]\n",
      "\tVisit list=[1, 5, 4, 3]\n",
      "\t[Info] Visit 2...\n",
      "\tStack list=[2, 3, 2]\n",
      "\tVisit list=[1, 5, 4, 3, 2]\n",
      "\t[Info] Deep First Search has [1, 5, 4, 3, 2]\n"
     ]
    }
   ],
   "source": [
    "while len(stack) > 0:  \n",
    "    vnode = stack.pop()  \n",
    "    if vnode not in visit_list:  \n",
    "        print(\"\\t[Info] Visit {0}...\".format(vnode))  \n",
    "        visit_list.append(vnode)  \n",
    "    nbs = G.neighbors(vnode)  \n",
    "    for nb in nbs:  \n",
    "        if nb not in visit_list:  \n",
    "            print(\"\\t[Info] Put {0} in stack...\".format(nb))  \n",
    "            stack.append(nb)  \n",
    "    print(\"\\tStack list={0}\".format(stack))  \n",
    "    print(\"\\tVisit list={0}\".format(visit_list))  \n",
    "    if len(visit_list) == len(G.nodes()): break  \n",
    "  \n",
    "print(\"\\t[Info] Deep First Search has {0}\".format(visit_list))  "
   ]
  },
  {
   "cell_type": "markdown",
   "metadata": {
    "slideshow": {
     "slide_type": "slide"
    }
   },
   "source": [
    "## Social Network Measure"
   ]
  },
  {
   "cell_type": "markdown",
   "metadata": {
    "slideshow": {
     "slide_type": "slide"
    }
   },
   "source": [
    "### Shorest Path"
   ]
  },
  {
   "cell_type": "code",
   "execution_count": 27,
   "metadata": {
    "slideshow": {
     "slide_type": "subslide"
    }
   },
   "outputs": [
    {
     "data": {
      "image/png": "[encoded data removed]",
      "text/plain": [
       "<matplotlib.figure.Figure at 0x92fb518>"
      ]
     },
     "metadata": {},
     "output_type": "display_data"
    }
   ],
   "source": [
    "G = nx.Graph()\n",
    "G.add_edges_from([(1,5), (1,2), (2,3), (2,4), (3,4), (3,5), (4,5)])  \n",
    "nx.draw(G,with_labels=True)\n"
   ]
  },
  {
   "cell_type": "code",
   "execution_count": 28,
   "metadata": {
    "slideshow": {
     "slide_type": "subslide"
    }
   },
   "outputs": [
    {
     "name": "stdout",
     "output_type": "stream",
     "text": [
      "[1, 2, 3]\n",
      "[2, 4]\n",
      "[1, 2, 4]\n"
     ]
    }
   ],
   "source": [
    "p = nx.shortest_path(G)\n",
    "print p[1][3]\n",
    "print p[2][4]\n",
    "print p[1][4]"
   ]
  },
  {
   "cell_type": "markdown",
   "metadata": {
    "slideshow": {
     "slide_type": "slide"
    }
   },
   "source": [
    "### Degree Centrality"
   ]
  },
  {
   "cell_type": "code",
   "execution_count": 29,
   "metadata": {
    "slideshow": {
     "slide_type": "subslide"
    }
   },
   "outputs": [
    {
     "data": {
      "image/png": "[encoded data removed]",
      "text/plain": [
       "<matplotlib.figure.Figure at 0xaec7320>"
      ]
     },
     "metadata": {},
     "output_type": "display_data"
    }
   ],
   "source": [
    "G = nx.Graph()\n",
    "G.add_edges_from([(1,5), (1,2), (2,3), (2,4), (3,4), (3,5), (4,5)])  \n",
    "nx.draw(G,with_labels=True)"
   ]
  },
  {
   "cell_type": "code",
   "execution_count": 30,
   "metadata": {
    "slideshow": {
     "slide_type": "subslide"
    }
   },
   "outputs": [
    {
     "data": {
      "image/png": "[encoded data removed]",
      "text/plain": [
       "<matplotlib.figure.Figure at 0x96f8ac8>"
      ]
     },
     "metadata": {},
     "output_type": "display_data"
    }
   ],
   "source": [
    "DG = nx.DiGraph()\n",
    "DG.add_edges_from([(1,5), (1,2), (2,3), (2,4), (3,4), (3,5), (4,5)])\n",
    "nx.draw(DG,with_labels=True)"
   ]
  },
  {
   "cell_type": "code",
   "execution_count": 31,
   "metadata": {
    "slideshow": {
     "slide_type": "subslide"
    }
   },
   "outputs": [
    {
     "name": "stdout",
     "output_type": "stream",
     "text": [
      "{1: 0.5, 2: 0.75, 3: 0.75, 4: 0.75, 5: 0.75}\n"
     ]
    }
   ],
   "source": [
    "#degree centrality\n",
    "d_c = nx.degree_centrality(G)\n",
    "print d_c\n"
   ]
  },
  {
   "cell_type": "code",
   "execution_count": 32,
   "metadata": {
    "slideshow": {
     "slide_type": "subslide"
    }
   },
   "outputs": [
    {
     "name": "stdout",
     "output_type": "stream",
     "text": [
      "{1: 0.0, 2: 0.25, 3: 0.25, 4: 0.5, 5: 0.75}\n",
      "{1: 0.5, 2: 0.5, 3: 0.5, 4: 0.25, 5: 0.0}\n"
     ]
    }
   ],
   "source": [
    "#in-degree centrality\n",
    "in_dc = nx.in_degree_centrality(DG)\n",
    "print in_dc\n",
    "#out-degree centrality\n",
    "out_dc = nx.out_degree_centrality(DG)\n",
    "print out_dc"
   ]
  },
  {
   "cell_type": "markdown",
   "metadata": {
    "slideshow": {
     "slide_type": "slide"
    }
   },
   "source": [
    "### Betweenness Centrality"
   ]
  },
  {
   "cell_type": "code",
   "execution_count": 33,
   "metadata": {
    "slideshow": {
     "slide_type": "subslide"
    }
   },
   "outputs": [
    {
     "name": "stdout",
     "output_type": "stream",
     "text": [
      "{1: 0.05555555555555555, 2: 0.16666666666666666, 3: 0.05555555555555555, 4: 0.05555555555555555, 5: 0.16666666666666666}\n"
     ]
    }
   ],
   "source": [
    "b_c = nx.betweenness_centrality(G)\n",
    "print b_c"
   ]
  },
  {
   "cell_type": "markdown",
   "metadata": {
    "slideshow": {
     "slide_type": "slide"
    }
   },
   "source": [
    "### Closeness_centrality"
   ]
  },
  {
   "cell_type": "code",
   "execution_count": 34,
   "metadata": {
    "slideshow": {
     "slide_type": "subslide"
    }
   },
   "outputs": [
    {
     "name": "stdout",
     "output_type": "stream",
     "text": [
      "{1: 0.6666666666666666, 2: 0.8, 3: 0.8, 4: 0.8, 5: 0.8}\n"
     ]
    }
   ],
   "source": [
    "c_c = nx.closeness_centrality(G)\n",
    "print c_c"
   ]
  },
  {
   "cell_type": "markdown",
   "metadata": {
    "slideshow": {
     "slide_type": "slide"
    }
   },
   "source": [
    "### Eigenvector_centrality"
   ]
  },
  {
   "cell_type": "code",
   "execution_count": 35,
   "metadata": {
    "slideshow": {
     "slide_type": "subslide"
    }
   },
   "outputs": [
    {
     "name": "stdout",
     "output_type": "stream",
     "text": [
      "{1: 0.31921248557590204, 2: 0.4557981294910591, 3: 0.49122271901722836, 4: 0.49122271901722836, 5: 0.4557981294910591}\n"
     ]
    }
   ],
   "source": [
    "e_c = nx.eigenvector_centrality(G)\n",
    "print e_c"
   ]
  },
  {
   "cell_type": "markdown",
   "metadata": {
    "slideshow": {
     "slide_type": "slide"
    }
   },
   "source": [
    "### Clique"
   ]
  },
  {
   "cell_type": "code",
   "execution_count": 36,
   "metadata": {
    "slideshow": {
     "slide_type": "subslide"
    }
   },
   "outputs": [
    {
     "name": "stdout",
     "output_type": "stream",
     "text": [
      "[[1], [2], [3], [4], [5], [1, 2], [1, 5], [2, 3], [2, 4], [3, 4], [3, 5], [4, 5], [2, 3, 4], [3, 4, 5]]\n",
      "1 clique: [[1], [2], [3], [4], [5]]\n",
      "2 clique: [[1, 2], [1, 5], [2, 3], [2, 4], [3, 4], [3, 5], [4, 5]]\n",
      "3 clique: [[2, 3, 4], [3, 4, 5]]\n"
     ]
    },
    {
     "data": {
      "image/png": "[encoded data removed]",
      "text/plain": [
       "<matplotlib.figure.Figure at 0xb4ae518>"
      ]
     },
     "metadata": {},
     "output_type": "display_data"
    }
   ],
   "source": [
    "nx.draw(G,with_labels=True)\n",
    "cliques = list(nx.enumerate_all_cliques(G))\n",
    "print cliques\n",
    "for i in range(1,len(max(cliques, key=len))+1):\n",
    "    print i,\"clique:\", [x for x in cliques if len(x)==i]\n"
   ]
  },
  {
   "cell_type": "code",
   "execution_count": 37,
   "metadata": {
    "slideshow": {
     "slide_type": "subslide"
    }
   },
   "outputs": [
    {
     "name": "stdout",
     "output_type": "stream",
     "text": [
      "[[2, 1], [5, 1]]\n"
     ]
    }
   ],
   "source": [
    "node_cliques = nx.cliques_containing_node(G,nodes=1)\n",
    "print(node_cliques)"
   ]
  },
  {
   "cell_type": "markdown",
   "metadata": {
    "slideshow": {
     "slide_type": "slide"
    }
   },
   "source": [
    "### Triangle, Transitivity, Clustering Coefficient"
   ]
  },
  {
   "cell_type": "code",
   "execution_count": 38,
   "metadata": {
    "slideshow": {
     "slide_type": "subslide"
    }
   },
   "outputs": [
    {
     "name": "stdout",
     "output_type": "stream",
     "text": [
      "{1: 0, 2: 1, 3: 2, 4: 2, 5: 1}\n",
      "0.461538461538\n",
      "{1: 0.0, 2: 0.3333333333333333, 3: 0.6666666666666666, 4: 0.6666666666666666, 5: 0.3333333333333333}\n"
     ]
    }
   ],
   "source": [
    "print nx.triangles(G)  \n",
    "print nx.transitivity(G)\n",
    "print nx.clustering(G)"
   ]
  },
  {
   "cell_type": "markdown",
   "metadata": {
    "slideshow": {
     "slide_type": "slide"
    }
   },
   "source": [
    "## Comunity"
   ]
  },
  {
   "cell_type": "markdown",
   "metadata": {
    "slideshow": {
     "slide_type": "-"
    }
   },
   "source": [
    "https://github.com/taynaud/python-louvain"
   ]
  },
  {
   "cell_type": "code",
   "execution_count": 39,
   "metadata": {
    "slideshow": {
     "slide_type": "subslide"
    }
   },
   "outputs": [
    {
     "name": "stdout",
     "output_type": "stream",
     "text": [
      "{1: 0, 2: 0, 3: 1, 4: 1, 5: 1}\n"
     ]
    }
   ],
   "source": [
    "import community\n",
    "\n",
    "G = nx.Graph()\n",
    "G.add_edges_from([(1,5), (1,2), (2,4), (3,4), (3,5), (4,5)])  \n",
    "partition = community.best_partition(G)\n",
    "print partition"
   ]
  },
  {
   "cell_type": "code",
   "execution_count": 40,
   "metadata": {
    "slideshow": {
     "slide_type": "subslide"
    }
   },
   "outputs": [
    {
     "data": {
      "text/plain": [
       "{1: Text(0.349055,0.81783,u'1'),\n",
       " 2: Text(0,0.421845,u'2'),\n",
       " 3: Text(1,0,u'3'),\n",
       " 4: Text(0.486116,0.0932294,u'4'),\n",
       " 5: Text(0.821224,0.480679,u'5')}"
      ]
     },
     "execution_count": 40,
     "metadata": {},
     "output_type": "execute_result"
    },
    {
     "data": {
      "image/png": "[encoded data removed]",
      "text/plain": [
       "<matplotlib.figure.Figure at 0x96d3d68>"
      ]
     },
     "metadata": {},
     "output_type": "display_data"
    }
   ],
   "source": [
    "size = float(len(set(partition.values())))\n",
    "pos = nx.spring_layout(G)\n",
    "labels = {}    \n",
    "for node in G.nodes():\n",
    "    labels[node] = node\n",
    "for com in set(partition.values()) :\n",
    "    list_nodes = [nodes for nodes in partition.keys() if partition[nodes] == com]\n",
    "    nx.draw_networkx_nodes(G, pos, list_nodes, node_size = 20, node_color = str(com / size))\n",
    "nx.draw_networkx_edges(G,pos, alpha=0.5)\n",
    "nx.draw_networkx_labels(G,pos,labels)"
   ]
  },
  {
   "cell_type": "code",
   "execution_count": 41,
   "metadata": {
    "slideshow": {
     "slide_type": "subslide"
    }
   },
   "outputs": [
    {
     "name": "stdout",
     "output_type": "stream",
     "text": [
      "0.111111111111\n"
     ]
    }
   ],
   "source": [
    "print community.modularity(partition,G)"
   ]
  }
 ],
 "metadata": {
  "celltoolbar": "Slideshow",
  "kernelspec": {
   "display_name": "Python 2",
   "language": "python",
   "name": "python2"
  },
  "language_info": {
   "codemirror_mode": {
    "name": "ipython",
    "version": 2
   },
   "file_extension": ".py",
   "mimetype": "text/x-python",
   "name": "python",
   "nbconvert_exporter": "python",
   "pygments_lexer": "ipython2",
   "version": "2.7.14"
  }
 },
 "nbformat": 4,
 "nbformat_minor": 1
}
